{
 "cells": [
  {
   "attachments": {},
   "cell_type": "markdown",
   "metadata": {},
   "source": [
    "# RSA Encryption Assignment.\n",
    "\n",
    "This is a script I wrote to help me with doing an assigment where I needed to encode my messages with RSA and decode my classmate's messages"
   ]
  },
  {
   "cell_type": "code",
   "execution_count": 8,
   "metadata": {},
   "outputs": [
    {
     "name": "stdout",
     "output_type": "stream",
     "text": [
      "{'a': 1, 1: 'a', 'b': 2, 2: 'b', 'c': 3, 3: 'c', 'd': 4, 4: 'd', 'e': 5, 5: 'e', 'f': 6, 6: 'f', 'g': 7, 7: 'g', 'h': 8, 8: 'h', 'i': 9, 9: 'i', 'j': 10, 10: 'j', 'k': 11, 11: 'k', 'l': 12, 12: 'l', 'm': 13, 13: 'm', 'n': 14, 14: 'n', 'o': 15, 15: 'o', 'p': 16, 16: 'p', 'q': 17, 17: 'q', 'r': 18, 18: 'r', 's': 19, 19: 's', 't': 20, 20: 't', 'u': 21, 21: 'u', 'v': 22, 22: 'v', 'w': 23, 23: 'w', 'x': 24, 24: 'x', 'y': 25, 25: 'y', 'z': 26, 26: 'z', ' ': 32, 32: ' ', '.': 27, 27: '.'}\n"
     ]
    }
   ],
   "source": [
    "import string\n",
    "\n",
    "# First, to generate mappings between the letters and numbers from 1-26, which \n",
    "# can be nicely squeezed into one dict.\n",
    "rsaLetterNumberMap = {}\n",
    "\n",
    "i = 1\n",
    "for character in string.ascii_letters[:26]:\n",
    "    rsaLetterNumberMap[character] = i\n",
    "    rsaLetterNumberMap[i] = character\n",
    "    i += 1\n",
    "\n",
    "# Additional characters.\n",
    "rsaLetterNumberMap[' '] = 32\n",
    "rsaLetterNumberMap[32] = ' '\n",
    "rsaLetterNumberMap['.'] = 27\n",
    "rsaLetterNumberMap[27] = '.'\n",
    "\n",
    "print(rsaLetterNumberMap)\n"
   ]
  },
  {
   "cell_type": "code",
   "execution_count": 9,
   "metadata": {},
   "outputs": [
    {
     "name": "stdout",
     "output_type": "stream",
     "text": [
      "Public key: {33, 3}\n",
      "Private key: {7}\n"
     ]
    }
   ],
   "source": [
    "# Construction of the public and private keys.\n",
    "p = 3 # given.\n",
    "q = 11 # given.\n",
    "\n",
    "phi = (p-1)*(q-1)\n",
    "\n",
    "# Public.\n",
    "N = p*q\n",
    "e = 3 # given.\n",
    "\n",
    "# Private\n",
    "d = pow(e, -1, phi)\n",
    "\n",
    "print(f'Public key: {{{N}, {e}}}')\n",
    "print(f'Private key: {{{d}}}')"
   ]
  },
  {
   "cell_type": "code",
   "execution_count": 10,
   "metadata": {},
   "outputs": [],
   "source": [
    "def encrypt(message: string) -> string:\n",
    "    ''' Takes the given message and encrypts it using the public key we previously created. '''\n",
    "    encryptedMessage = []\n",
    "\n",
    "    for character in message.lower():\n",
    "        number = rsaLetterNumberMap.get(character)\n",
    "        if number is not None:\n",
    "            encryptedMessage.append(number)\n",
    "\n",
    "    # Applies public key.\n",
    "    for i in range(len(encryptedMessage)):\n",
    "        encryptedMessage[i] = pow(encryptedMessage[i], e, N)\n",
    "    \n",
    "    # Single-digit numbers have a 0 pre-pended to them as required by RSA.\n",
    "    return ''.join([f'{number:02}' for number in encryptedMessage])\n",
    "\n",
    "# Given example for testing\n",
    "assert(encrypt(\"a cab\") == \"0132270108\")"
   ]
  },
  {
   "cell_type": "code",
   "execution_count": 11,
   "metadata": {},
   "outputs": [],
   "source": [
    "import re\n",
    "\n",
    "notDigitRegex = re.compile('[^0-9]+')\n",
    "\n",
    "def decrypt(encryptedMessage: string) -> string:\n",
    "    ''' Takes the given encrypted message and decrypts it using the private key we previously created.'''\n",
    "    encryptedMessage = re.sub(notDigitRegex, '', encryptedMessage)\n",
    "    if len(encryptedMessage) % 2 != 0:\n",
    "        raise ValueError(\"An encrypted message needs two number per character, as-in a string of even length, to be valid\")\n",
    "    \n",
    "    message = []\n",
    "\n",
    "    # Decrypts the message with the private key.\n",
    "    for i in range(0, len(encryptedMessage), 2):\n",
    "        message.append(pow(int(encryptedMessage[i:i+2]), d, N))\n",
    "\n",
    "    return ''.join(filter(lambda x: x is not None, [rsaLetterNumberMap.get(number) for number in message]))\n",
    "\n",
    "assert(decrypt(\"0132270108\") == \"a cab\")"
   ]
  },
  {
   "cell_type": "code",
   "execution_count": 12,
   "metadata": {},
   "outputs": [
    {
     "name": "stdout",
     "output_type": "stream",
     "text": [
      "Post title: 3103282721282803090532272416041409132401041716\n",
      "Decrypted: discussion cryptography\n",
      "\n",
      "Initial Post: 1417263219092814320305142624262814030513321417030513320305321417032832270921242826322309211231321701222632140932082632141703283201282803130519260514153221280305133228091926141703051332160921321226012405263132140932310932280919261417030513322709091232032832280919261417030513321417011432032832050914323109052632010516231726242632052601243226050921131732030532141726322712012828262832033217012226321401112605153214093219011126321417032832012828031305192605143226012803262432180924321926320332232409142632280919263204161417090532270931263214093231093214172632230924113223170327173216092132270105321803053132013210210416142624320509142608090911320114140127172631321409321417032832040928143203183216092132230921123132120311263214093221282632031432160921242826121815320332050914032726313214170114320332270921123105143231262724160414320914172624283219262828011326283217092326222624321916322709312632270924242627141216322605272416041428320105313231262724160414283214172632013227010832192628280113263214170114322301283228210404120326313214093214262814320921243223092411322809320319321226313214093208261203262226321417011432141726163201242632030527092424262714121632310905261532140932270112272112011426321417263222011221263209183231320332212826313204161417090528320409233218210527140309051532160921322701053227091904211426320105320305222624282632192112140304122632081632042114140305133214172632052119082624321409320305222624143218032428143223170327173203283226321417260532052613011403222632090526320105313216092132270105320131313203053205211908262432140932190931321417011432081632230314173214172632141703243132012413211926051432231703271732032832041703153216092132270105322128263228260401240114263209042624011409242832082114320409233203283209041403190320263132180924320305142613262428322317032717320328322709091215\n",
      "Decrypted: the most interesting thing in this course would have to be this assignment. using something you learned to do something cool is something that is not done anywhere near enough in the classes i have taken. to make this assignment easier for me i wrote some python code to do the work which you can find a jupyter notebook attached to this post if you would like to use it yourself. i noticed that i couldnt decrypt others messages however my code correctly encrypts and decrypts the a cab message that was supplied to test our work so im led to believe that they are incorrectly done. to calculate the value of d i used pythons pow function. you can compute an inverse multiple by putting the number to invert first which is e then negative one and you can add in number to mod that by with the third argument which is phi. you can use separate operators but pow is optimized for integers which is cool.\n"
     ]
    }
   ],
   "source": [
    "# My submission for the assignment.\n",
    "# Note: '.' is 27.\n",
    "\n",
    "postTitle = encrypt(\"Discussion: Cryptography\")\n",
    "print(f'Post title: {postTitle}')\n",
    "print(f'Decrypted: {decrypt(postTitle)}')\n",
    "\n",
    "initialPost = encrypt(\"The most interesting thing in this course would have to be this assignment. Using something you learned to do something cool is something that is not done anywhere near enough in the classes I have taken. to make this assignment easier for me I wrote some Python code to do the work, which you can find a Jupyter notebook attached to this post if you would like to use it yourself. I noticed that I couldn't decrypt others' messages, however my code correctly encrypts and decrypts the 'A CAB' message that was supplied to test our work, so I'm led to believe that they are incorrectly done. To calculate the value of d I used Python's pow function. You can compute an inverse multiple by putting the number to invert first, which is e, then negative one, and you can add in number to mod that by with the third argument, which is phi. You can use separate operators but pow is optimized for integers, which is cool.\")\n",
    "\n",
    "print()\n",
    "print(f'Initial Post: {initialPost}')\n",
    "print(f'Decrypted: {decrypt(initialPost)}')"
   ]
  }
 ],
 "metadata": {
  "kernelspec": {
   "display_name": "Python 3",
   "language": "python",
   "name": "python3"
  },
  "language_info": {
   "codemirror_mode": {
    "name": "ipython",
    "version": 3
   },
   "file_extension": ".py",
   "mimetype": "text/x-python",
   "name": "python",
   "nbconvert_exporter": "python",
   "pygments_lexer": "ipython3",
   "version": "3.8.10"
  },
  "orig_nbformat": 4,
  "vscode": {
   "interpreter": {
    "hash": "916dbcbb3f70747c44a77c7bcd40155683ae19c65e1c03b4aa3499c5328201f1"
   }
  }
 },
 "nbformat": 4,
 "nbformat_minor": 2
}
